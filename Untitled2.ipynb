{
  "nbformat": 4,
  "nbformat_minor": 0,
  "metadata": {
    "colab": {
      "provenance": []
    },
    "kernelspec": {
      "name": "python3",
      "display_name": "Python 3"
    },
    "language_info": {
      "name": "python"
    }
  },
  "cells": [
    {
      "cell_type": "markdown",
      "source": [
        "ASSIGNMENT : DATA STRUCTURES"
      ],
      "metadata": {
        "id": "Gl5IdHT7UHrg"
      }
    },
    {
      "cell_type": "markdown",
      "source": [
        "1.)Discuss string slicing and provide examples."
      ],
      "metadata": {
        "id": "yGD4qnKPUZZi"
      }
    },
    {
      "cell_type": "markdown",
      "source": [
        "1.)Python String slicing is a way of creating a sub-string from a given string. In this process, we extract a portion or piece of a string. Usually, we use the slice operator \"[ : ]\" to perform slicing on a Python String. For example:"
      ],
      "metadata": {
        "id": "BKvuHVZHUxXa"
      }
    },
    {
      "cell_type": "code",
      "source": [
        "line=\"I am a very good girl\"\n",
        "print(line[2:4])\n"
      ],
      "metadata": {
        "colab": {
          "base_uri": "https://localhost:8080/"
        },
        "id": "0J4mk6j_U77k",
        "outputId": "7b569185-10c4-4ba4-86e3-8165a4cf8fbd"
      },
      "execution_count": 7,
      "outputs": [
        {
          "output_type": "stream",
          "name": "stdout",
          "text": [
            "am\n"
          ]
        }
      ]
    },
    {
      "cell_type": "code",
      "source": [
        "a=\"Kirtika\"\n",
        "a[-5]"
      ],
      "metadata": {
        "colab": {
          "base_uri": "https://localhost:8080/",
          "height": 36
        },
        "id": "6Af85oQeWJC1",
        "outputId": "cefef423-6733-4045-8afc-d38cff3183b6"
      },
      "execution_count": 8,
      "outputs": [
        {
          "output_type": "execute_result",
          "data": {
            "text/plain": [
              "'r'"
            ],
            "application/vnd.google.colaboratory.intrinsic+json": {
              "type": "string"
            }
          },
          "metadata": {},
          "execution_count": 8
        }
      ]
    },
    {
      "cell_type": "markdown",
      "source": [
        "2.)Explain the key features of lists in Python.\n",
        "\n",
        "2.)In Python, lists are a versatile and commonly used data structure. Here are the key features:\n",
        "\n",
        "! Ordered Collection: Lists maintain the order of elements. The position of each element is fixed, and elements can be accessed by their index.\n",
        "\n",
        "!Mutable:Lists are mutable, meaning you can modify them by adding, removing, or changing elements after their creation.\n",
        "\n",
        "!Heterogeneous Elements:Lists can hold elements of different data types, including integers, floats, strings, and even other lists or objects.\n",
        "\n",
        "!Indexing and Slicing:Elements in a list can be accessed using zero-based indexing (list[0] for the first element). You can also retrieve a range of elements using slicing (list[start:end]).\n",
        "\n",
        "!Methods for Manipulation:\n",
        "Lists come with various built-in methods such as:\n",
        "append(): Adds an element to the end of the list.\n",
        "extend(): Adds elements from another list.\n",
        "insert(): Inserts an element at a specific position.\n",
        "remove(): Removes the first occurrence of an element.\n",
        "pop(): Removes and returns the element at a specific position (or the last one).\n",
        "sort(): Sorts the list.\n",
        "reverse(): Reverses the elements in the list.\n",
        "index(): Returns the index of the first occurrence of a specified element.\n"
      ],
      "metadata": {
        "id": "pnRz2J2yWXne"
      }
    },
    {
      "cell_type": "markdown",
      "source": [
        "3.)Describe how to access, modify, and delete elements in a list with examples.\n",
        "\n",
        "3.)ACCESS ELEMENTS:\n",
        "We access the list items by referring to the index number:"
      ],
      "metadata": {
        "id": "9K9RTrlcXfhd"
      }
    },
    {
      "cell_type": "code",
      "source": [
        "thislist = [\"apple\", \"banana\", \"cherry\"]\n",
        "thislist[1]"
      ],
      "metadata": {
        "colab": {
          "base_uri": "https://localhost:8080/",
          "height": 36
        },
        "id": "qBMZVt9xYI78",
        "outputId": "ac197128-dd94-469a-ac4b-ff0fb1a0eb6a"
      },
      "execution_count": 9,
      "outputs": [
        {
          "output_type": "execute_result",
          "data": {
            "text/plain": [
              "'banana'"
            ],
            "application/vnd.google.colaboratory.intrinsic+json": {
              "type": "string"
            }
          },
          "metadata": {},
          "execution_count": 9
        }
      ]
    },
    {
      "cell_type": "markdown",
      "source": [
        "NEGATIVE INDEXING:"
      ],
      "metadata": {
        "id": "sDSmZKXWYb1b"
      }
    },
    {
      "cell_type": "code",
      "source": [
        "\n",
        "thislist = [\"apple\", \"banana\", \"cherry\"]\n",
        "thislist[-2]"
      ],
      "metadata": {
        "colab": {
          "base_uri": "https://localhost:8080/",
          "height": 36
        },
        "id": "Z5NEDOA6Yd_b",
        "outputId": "7ef42b32-0303-4018-af0f-448d3fd5dcab"
      },
      "execution_count": 10,
      "outputs": [
        {
          "output_type": "execute_result",
          "data": {
            "text/plain": [
              "'banana'"
            ],
            "application/vnd.google.colaboratory.intrinsic+json": {
              "type": "string"
            }
          },
          "metadata": {},
          "execution_count": 10
        }
      ]
    },
    {
      "cell_type": "markdown",
      "source": [
        "RANGE OF INDEXES:\n",
        "You can specify a range of indexes by specifying where to start and where to end the range."
      ],
      "metadata": {
        "id": "hjnywOwZYuzy"
      }
    },
    {
      "cell_type": "code",
      "source": [
        "thislist = [\"apple\", \"banana\", \"cherry\"]\n",
        "thislist[1:3]"
      ],
      "metadata": {
        "colab": {
          "base_uri": "https://localhost:8080/"
        },
        "id": "KQubTmJ0ZBLf",
        "outputId": "7db23efb-2407-43bd-c8e8-729d36b7b373"
      },
      "execution_count": 12,
      "outputs": [
        {
          "output_type": "execute_result",
          "data": {
            "text/plain": [
              "['banana', 'cherry']"
            ]
          },
          "metadata": {},
          "execution_count": 12
        }
      ]
    },
    {
      "cell_type": "markdown",
      "source": [
        "MODIFY ELEMENTS:We can modify elements by assigning a new value to the index.\n",
        "\n",
        "Modifying a single element:"
      ],
      "metadata": {
        "id": "Cj0FpwAoZVVO"
      }
    },
    {
      "cell_type": "code",
      "source": [
        "thislist = [\"apple\", \"banana\", \"cherry\"]\n",
        "thislist[1]=\"orange\"\n",
        "print(thislist)"
      ],
      "metadata": {
        "colab": {
          "base_uri": "https://localhost:8080/"
        },
        "id": "1Zk7N8NsZ4VY",
        "outputId": "4cbf5860-263d-494d-d3da-371609e500ce"
      },
      "execution_count": 13,
      "outputs": [
        {
          "output_type": "stream",
          "name": "stdout",
          "text": [
            "['apple', 'orange', 'cherry']\n"
          ]
        }
      ]
    },
    {
      "cell_type": "markdown",
      "source": [
        "DELETING ELEMENTS:\n",
        "There are multiple ways to delete elements from a list:"
      ],
      "metadata": {
        "id": "RomtnV_Maw5Y"
      }
    },
    {
      "cell_type": "code",
      "source": [
        "thislist = [\"apple\", \"banana\", \"cherry\"]\n",
        "del thislist[2]\n",
        "print(thislist)"
      ],
      "metadata": {
        "colab": {
          "base_uri": "https://localhost:8080/"
        },
        "id": "ihiqLtoaa62K",
        "outputId": "c3bddb8f-68b3-4114-89f3-54d30cbf5b3b"
      },
      "execution_count": 16,
      "outputs": [
        {
          "output_type": "stream",
          "name": "stdout",
          "text": [
            "['apple', 'banana']\n"
          ]
        }
      ]
    },
    {
      "cell_type": "code",
      "source": [
        "thislist = [\"apple\", \"banana\", \"cherry\"]\n",
        "thislist.pop(1)\n",
        "print(thislist)"
      ],
      "metadata": {
        "colab": {
          "base_uri": "https://localhost:8080/"
        },
        "id": "MewQ0MvibF70",
        "outputId": "e3b15526-fd5a-45d7-ca63-2f51da1a4318"
      },
      "execution_count": 19,
      "outputs": [
        {
          "output_type": "stream",
          "name": "stdout",
          "text": [
            "['apple', 'cherry']\n"
          ]
        }
      ]
    },
    {
      "cell_type": "markdown",
      "source": [
        "4.)Compare and contrast tuples and lists with examples.\n",
        "\n",
        "4.)Comparing and contrasting tuples and list here we get the following:\n",
        "\n",
        "Syntax:\n",
        "\n",
        "List: Lists are defined using square brackets [].\n",
        "\n",
        "Tuple: Tuples are defined using parentheses ()."
      ],
      "metadata": {
        "id": "PMlwrEBJcBxP"
      }
    },
    {
      "cell_type": "code",
      "source": [
        "# List\n",
        "my_list = [1, 2, 3]\n",
        "\n",
        "# Tuple\n",
        "my_tuple = (1, 2, 3)\n"
      ],
      "metadata": {
        "id": "Mc3Mz8e1dFlE"
      },
      "execution_count": 20,
      "outputs": []
    },
    {
      "cell_type": "code",
      "source": [],
      "metadata": {
        "id": "LDX41YG8dIKu"
      },
      "execution_count": null,
      "outputs": []
    },
    {
      "cell_type": "markdown",
      "source": [
        "Mutability:\n",
        "\n",
        "List: Lists are mutable, meaning their elements can be modified (added, removed, or changed).\n",
        "\n",
        "Tuple: Tuples are immutable, meaning once they are created, their elements cannot be changed."
      ],
      "metadata": {
        "id": "Sdh7unRjdJzl"
      }
    },
    {
      "cell_type": "code",
      "source": [
        "# List (mutable)\n",
        "my_list = [1, 2, 3]\n",
        "my_list[0] = 10  # Modifying the first element\n",
        "print(my_list)   # Output: [10, 2, 3]\n",
        "\n",
        "# Tuple (immutable)\n",
        "my_tuple = (1, 2, 3)\n",
        "# my_tuple[0] = 10  # This would raise a TypeError since tuples cannot be modified\n"
      ],
      "metadata": {
        "colab": {
          "base_uri": "https://localhost:8080/"
        },
        "id": "qcwJgkhndPzr",
        "outputId": "6dbd47ab-aa15-43f1-de67-6e5f42285aa4"
      },
      "execution_count": 21,
      "outputs": [
        {
          "output_type": "stream",
          "name": "stdout",
          "text": [
            "[10, 2, 3]\n"
          ]
        }
      ]
    },
    {
      "cell_type": "markdown",
      "source": [
        "Methods and Operations:\n",
        "\n",
        "List: Lists have more built-in methods like append(), remove(), pop(), sort(), etc., because they are mutable.\n",
        "\n",
        "Tuple: Tuples have fewer methods (mostly count() and index()) because they are immutable."
      ],
      "metadata": {
        "id": "NI4Q4fP7dXLk"
      }
    },
    {
      "cell_type": "code",
      "source": [
        "# List methods\n",
        "my_list = [1, 2, 3]\n",
        "my_list.append(4)\n",
        "print(my_list)  # Output: [1, 2, 3, 4]\n",
        "\n",
        "# Tuple methods (limited)\n",
        "my_tuple = (1, 2, 3, 2)\n",
        "print(my_tuple.count(2))  # Output: 2 (counts how many times '2' appears)\n",
        "print(my_tuple.index(3))  # Output: 2 (returns the index of the first occurrence of '3')\n"
      ],
      "metadata": {
        "colab": {
          "base_uri": "https://localhost:8080/"
        },
        "id": "RiNP4ubDdaH7",
        "outputId": "af5aed89-fed0-43ba-acd5-ffb55743cf35"
      },
      "execution_count": 23,
      "outputs": [
        {
          "output_type": "stream",
          "name": "stdout",
          "text": [
            "[1, 2, 3, 4]\n",
            "2\n",
            "2\n"
          ]
        }
      ]
    },
    {
      "cell_type": "code",
      "source": [],
      "metadata": {
        "id": "QExMbpXKdcZI"
      },
      "execution_count": null,
      "outputs": []
    },
    {
      "cell_type": "markdown",
      "source": [
        "Use Cases:\n",
        "\n",
        "List: Use lists when you need a collection of items that can change over time (e.g., when you need to append or modify elements).\n",
        "\n",
        "Tuple: Use tuples when you need a collection of items that should remain constant throughout the program (e.g., for storing fixed data, like coordinates or constants)."
      ],
      "metadata": {
        "id": "if9QT_kIdkQ8"
      }
    },
    {
      "cell_type": "code",
      "source": [],
      "metadata": {
        "id": "cAIBI76udnSo"
      },
      "execution_count": 23,
      "outputs": []
    },
    {
      "cell_type": "markdown",
      "source": [
        "5.)Describe the key features of sets and provide examples of their use.\n",
        "\n",
        "5.)A set in Python is an unordered collection of unique elements. Sets are useful when you want to eliminate duplicates and perform operations like union, intersection, and difference efficiently. Here are the key features of sets, along with examples of their use:\n",
        "\n",
        "Key Features of Sets\n",
        "Unordered: Sets do not maintain the order of elements. Unlike lists or tuples, you cannot access elements by index.\n",
        "\n",
        "Unique Elements: A set automatically eliminates duplicate values. This is useful when you need a collection of unique items.\n",
        "\n",
        "Mutable: Sets are mutable, meaning you can add or remove elements after creating the set.\n",
        "\n",
        "Unhashable Elements: Sets can only contain immutable (hashable) data types like integers, strings, and tuples. Lists and other sets cannot be elements of a set.\n",
        "\n",
        "Set Operations: Sets support mathematical operations like union, intersection, difference, and symmetric difference, which are useful for comparing and working with multiple sets.\n",
        "\n",
        "Frozensets: There is also an immutable version of sets called frozenset that cannot be modified after creation."
      ],
      "metadata": {
        "id": "2Zgnl720dn-E"
      }
    },
    {
      "cell_type": "code",
      "source": [
        "thisset = {\"apple\", \"banana\", \"cherry\"}\n",
        "\n",
        "print(len(thisset))\n"
      ],
      "metadata": {
        "colab": {
          "base_uri": "https://localhost:8080/"
        },
        "id": "3AvVgVyTj5XN",
        "outputId": "126d90ff-4400-42a6-bec3-a0f949bb07e4"
      },
      "execution_count": 24,
      "outputs": [
        {
          "output_type": "stream",
          "name": "stdout",
          "text": [
            "3\n"
          ]
        }
      ]
    },
    {
      "cell_type": "code",
      "source": [
        "set= {1,2,4,4,5,8,9,9,10}\n",
        "print(\"Return set with unique elements:\",set)"
      ],
      "metadata": {
        "colab": {
          "base_uri": "https://localhost:8080/"
        },
        "id": "30EoKbwdj6r7",
        "outputId": "e8ada559-ed28-48dc-c80f-f25ebf837d48"
      },
      "execution_count": 25,
      "outputs": [
        {
          "output_type": "stream",
          "name": "stdout",
          "text": [
            "Return set with unique elements: {1, 2, 4, 5, 8, 9, 10}\n"
          ]
        }
      ]
    },
    {
      "cell_type": "code",
      "source": [
        "numbers = {21, 34, 54, 12}\n",
        "\n",
        "print('Initial Set:',numbers)\n",
        "\n",
        "# using add() method\n",
        "numbers.add(32)\n",
        "\n",
        "print('Updated Set:', numbers)"
      ],
      "metadata": {
        "colab": {
          "base_uri": "https://localhost:8080/"
        },
        "id": "8OSpOCcRkPaf",
        "outputId": "95952c72-b09a-4ed5-acc3-36bd2b77b1fc"
      },
      "execution_count": 26,
      "outputs": [
        {
          "output_type": "stream",
          "name": "stdout",
          "text": [
            "Initial Set: {34, 12, 21, 54}\n",
            "Updated Set: {32, 34, 12, 21, 54}\n"
          ]
        }
      ]
    },
    {
      "cell_type": "markdown",
      "source": [
        "6.)Discuss the use cases of tuples and sets in Python programming.\n",
        "\n",
        "6.)Tuples are great, because of mostly two things:\n",
        "\n",
        "Tuples are considered heterogenous data structures, meaning there's no implicit expectation that the contents are all the same type. Furthermore, they signal meaningful positioning; for instance the row of a table can be treated as a tuple, because one column could be holding names and another a person's age. Swapping them around in a row could end up breaking things.\n",
        "\n",
        "Tuples are immutable, and also hashable, meaning they can be used as dictionary keys. The immutability part also enforces that no part of your code can accidentally add or remove elements from it. And if the contents are also immutable, you can rest assured that it cannot change at all unless you assign a different tuple to the same name.\n",
        "\n",
        "Use Cases for Sets:\n",
        "\n",
        "!Removing Duplicates from a List\n",
        "\n",
        "Eliminate duplicate values from a list.\n",
        "\n",
        "Example: set([1, 2, 2, 3]) results in {1, 2, 3}.\n",
        "\n",
        "!Performing Set Operations:\n",
        "\n",
        "Efficiently compute union, intersection, difference, and symmetric difference.\n",
        "Example: {1, 2, 3} & {2, 3, 4} results in {2, 3}.\n",
        "\n",
        "!Mathematical Set Theory:\n",
        "\n",
        "Implement operations based on set theory, such as determining common or unique elements.\n",
        "Example: {1, 2, 3} - {2, 3, 4} results in {1}.\n",
        "\n",
        "!Unique Data Representation:\n",
        "\n",
        "Represent a collection of unique items, like user IDs or product codes.\n",
        "Example: {101, 102, 103} for unique user IDs.\n"
      ],
      "metadata": {
        "id": "G56WN2C7kip-"
      }
    },
    {
      "cell_type": "markdown",
      "source": [
        "7.)Describe how to add, modify, and delete items in a dictionary with examples.\n",
        "\n",
        "7.)Dictionaries in Python are mutable data structures that store key-value pairs. You can add, modify, and delete items in a dictionary using specific methods and operations. Here’s how to perform these actions with examples:\n",
        "\n",
        "1.Adding Items to a Dictionary:\n",
        "\n",
        "You can add items to a dictionary by assigning a value to a new key."
      ],
      "metadata": {
        "id": "iIuBEaubmFH1"
      }
    },
    {
      "cell_type": "code",
      "source": [
        "# Creating an empty dictionary\n",
        "my_dict = {}\n",
        "\n",
        "# Adding a new key-value pair\n",
        "my_dict['name'] = 'Alice'\n",
        "my_dict['age'] = 30\n",
        "\n",
        "print(my_dict)  # Output: {'name': 'Alice', 'age': 30}\n",
        "\n",
        "# Adding another key-value pair\n",
        "my_dict['city'] = 'New York'\n",
        "print(my_dict)  # Output: {'name': 'Alice', 'age': 30, 'city': 'New York'}\n"
      ],
      "metadata": {
        "colab": {
          "base_uri": "https://localhost:8080/"
        },
        "id": "ETWMWMFkmCFE",
        "outputId": "5ade68bf-9341-4845-f5e6-eed6a4a462b4"
      },
      "execution_count": 27,
      "outputs": [
        {
          "output_type": "stream",
          "name": "stdout",
          "text": [
            "{'name': 'Alice', 'age': 30}\n",
            "{'name': 'Alice', 'age': 30, 'city': 'New York'}\n"
          ]
        }
      ]
    },
    {
      "cell_type": "markdown",
      "source": [
        "2.Modifying Items in a Dictionary:\n",
        "\n",
        "To modify an existing item, you can assign a new value to an existing key."
      ],
      "metadata": {
        "id": "L6AOEhmZmqce"
      }
    },
    {
      "cell_type": "code",
      "source": [
        "# Creating a dictionary\n",
        "my_dict = {'name': 'Alice', 'age': 30, 'city': 'New York'}\n",
        "\n",
        "# Modifying the value for an existing key\n",
        "my_dict['age'] = 31\n",
        "my_dict['city'] = 'San Francisco'\n",
        "\n",
        "print(my_dict)  # Output: {'name': 'Alice', 'age': 31, 'city': 'San Francisco'}\n"
      ],
      "metadata": {
        "colab": {
          "base_uri": "https://localhost:8080/"
        },
        "id": "0tG_oNNlmuO3",
        "outputId": "1851818f-b7f0-4fc6-d4a2-d01da560ada8"
      },
      "execution_count": 29,
      "outputs": [
        {
          "output_type": "stream",
          "name": "stdout",
          "text": [
            "{'name': 'Alice', 'age': 31, 'city': 'San Francisco'}\n"
          ]
        }
      ]
    },
    {
      "cell_type": "markdown",
      "source": [
        "3.Deleting Items from a Dictionary\n",
        "You can delete items from a dictionary using several methods:\n",
        "\n",
        "del: Deletes a key-value pair by key.\n",
        "\n",
        "pop(): Removes and returns a key-value pair.\n",
        "\n",
        "popitem(): Removes and returns the last inserted key-value pair.\n",
        "\n",
        "clear(): Removes all items from the dictionary."
      ],
      "metadata": {
        "id": "CK3RPG0fm3Fc"
      }
    },
    {
      "cell_type": "code",
      "source": [
        "# Creating a dictionary\n",
        "my_dict = {'name': 'Alice', 'age': 31, 'city': 'San Francisco'}\n",
        "\n",
        "# Deleting a key-value pair using `del`\n",
        "del my_dict['city']\n",
        "print(my_dict)  # Output: {'name': 'Alice', 'age': 31}\n",
        "\n",
        "# Deleting and returning a key-value pair using `pop()`\n",
        "age = my_dict.pop('age')\n",
        "print(age)      # Output: 31\n",
        "print(my_dict)  # Output: {'name': 'Alice'}\n",
        "\n",
        "# Deleting and returning the last key-value pair using `popitem()`\n",
        "item = my_dict.popitem()\n",
        "print(item)     # Output: ('name', 'Alice')\n",
        "print(my_dict)  # Output: {}\n",
        "\n",
        "# Clearing all items\n",
        "my_dict.clear()\n",
        "print(my_dict)  # Output: {}\n"
      ],
      "metadata": {
        "colab": {
          "base_uri": "https://localhost:8080/"
        },
        "id": "mTvURLLsm7us",
        "outputId": "05b12a6d-e2e0-479a-8a41-a7b2ea6e0c1a"
      },
      "execution_count": 30,
      "outputs": [
        {
          "output_type": "stream",
          "name": "stdout",
          "text": [
            "{'name': 'Alice', 'age': 31}\n",
            "31\n",
            "{'name': 'Alice'}\n",
            "('name', 'Alice')\n",
            "{}\n",
            "{}\n"
          ]
        }
      ]
    },
    {
      "cell_type": "markdown",
      "source": [
        "8.)Discuss the importance of dictionary keys being immutable and provide examples.\n",
        "\n",
        "8.)Importance of Immutable Dictionary Keys\n",
        "In Python, dictionary keys must be immutable. This requirement is crucial for several reasons:\n",
        "\n",
        "Hashability: Dictionary keys are used to compute a hash value, which allows for quick lookups. Immutable objects have a fixed hash value, ensuring that the key can be reliably located in the dictionary. If keys were mutable and their value changed, it would disrupt the hash table, making it impossible to find the key.\n",
        "\n",
        "Consistency: Since the hash value of immutable keys does not change, the dictionary can maintain consistency in its internal structure. This consistency is essential for accurate key lookups, additions, and deletions.\n",
        "\n",
        "Integrity: Immutability guarantees that once a key is added to the dictionary, it cannot be altered. This ensures that key-value mappings remain accurate and reliable.\n",
        "\n",
        "Efficiency: Immutable keys allow dictionaries to optimize operations like lookups. The hashing mechanism can efficiently handle key-value pairs without worrying about changes to the key.\n"
      ],
      "metadata": {
        "id": "ZEyimVRGnLN8"
      }
    },
    {
      "cell_type": "code",
      "source": [
        "# Using a string as a key\n",
        "my_dict = {'name': 'Alice'}\n",
        "print(my_dict['name'])\n"
      ],
      "metadata": {
        "colab": {
          "base_uri": "https://localhost:8080/"
        },
        "id": "Xf4Rdzcgnyg4",
        "outputId": "8975e4b8-b850-4e38-c92e-09353a14b9aa"
      },
      "execution_count": 31,
      "outputs": [
        {
          "output_type": "stream",
          "name": "stdout",
          "text": [
            "Alice\n"
          ]
        }
      ]
    },
    {
      "cell_type": "code",
      "source": [
        "# Using a number as a key\n",
        "my_dict = {42: 'Answer to everything'}\n",
        "print(my_dict[42])\n"
      ],
      "metadata": {
        "colab": {
          "base_uri": "https://localhost:8080/"
        },
        "id": "bm5sbXw8nzqZ",
        "outputId": "8d3b1a33-c475-4474-9e79-f4b14e7cd15e"
      },
      "execution_count": 32,
      "outputs": [
        {
          "output_type": "stream",
          "name": "stdout",
          "text": [
            "Answer to everything\n"
          ]
        }
      ]
    },
    {
      "cell_type": "code",
      "source": [],
      "metadata": {
        "id": "w9MQ34PIn9w1"
      },
      "execution_count": null,
      "outputs": []
    }
  ]
}